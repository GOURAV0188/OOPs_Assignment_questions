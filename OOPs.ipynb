{
  "nbformat": 4,
  "nbformat_minor": 0,
  "metadata": {
    "colab": {
      "provenance": []
    },
    "kernelspec": {
      "name": "python3",
      "display_name": "Python 3"
    },
    "language_info": {
      "name": "python"
    }
  },
  "cells": [
    {
      "cell_type": "code",
      "execution_count": 1,
      "metadata": {
        "id": "yaeihVXUSUmx"
      },
      "outputs": [],
      "source": [
        "# # 1. What are the five key concepts of Object-Oriented Programming (OOP)?\n",
        "# Answer =\n",
        "# Key Concepts of Object-Oriented Programming (OOP)\n",
        "# 1.Encapsulation: Wrapping data (variables) and methods (functions) into a single unit (class), and restricting access using access modifiers.\n",
        "# 2 .Abstraction: Hiding internal details and showing only essential features.\n",
        "# 3.Inheritance: Allowing a class (child) to inherit properties and methods from another class (parent).\n",
        "# 4.Polymorphism: Allowing methods to perform differently based on the object they are acting upon.\n",
        "# 5. Association: Building relationships between classes, such as composition and aggregation."
      ]
    },
    {
      "cell_type": "code",
      "source": [
        "# 2. Write a Python class for a Car with attributes for make, model, and year. Include a method to display\n",
        "# the car's information.\n",
        "# Answer =\n",
        "class Car:\n",
        "    def __init__(self, make, model, year):\n",
        "        self.make = make\n",
        "        self.model = model\n",
        "        self.year = year\n",
        "\n",
        "    def display_info(self):\n",
        "        return f\"{self.year} {self.make} {self.model}\"\n"
      ],
      "metadata": {
        "id": "l7JhpCD9Sq8p"
      },
      "execution_count": 2,
      "outputs": []
    },
    {
      "cell_type": "code",
      "source": [
        "# 3. Explain the difference between instance methods and class methods. Provide an example of each.\n",
        "# # Answer =\n",
        "#  Difference Between Instance Methods and Class Methods\n",
        "# Instance Methods: Operate on instance-level data and require an instance of the class. They use self as the first parameter.\n",
        "# Class Methods: Operate on the class-level data and require the cls parameter. Use @classmethod decorator.\n"
      ],
      "metadata": {
        "id": "SbHY3jxqSyc5"
      },
      "execution_count": 3,
      "outputs": []
    },
    {
      "cell_type": "code",
      "source": [
        "# 4. How does Python implement method overloading? Give an example.\n",
        "# # Answer =\n",
        "#  Python and Method Overloading\n",
        "# Python does not support traditional method overloading. However, you can achieve similar behavior using default arguments or variable-length arguments.\n",
        "\n",
        "# Example:\n",
        "\n",
        "class Example:\n",
        "    def method(self, a, b=None):\n",
        "        if b:\n",
        "            return a + b\n",
        "        return a\n",
        "\n",
        "obj = Example()\n",
        "print(obj.method(5))        # 5\n",
        "print(obj.method(5, 10))    # 15"
      ],
      "metadata": {
        "colab": {
          "base_uri": "https://localhost:8080/"
        },
        "id": "-VpfwEUqS52l",
        "outputId": "ecd45e35-28d0-4f67-f252-ad97a8e3f632"
      },
      "execution_count": 4,
      "outputs": [
        {
          "output_type": "stream",
          "name": "stdout",
          "text": [
            "5\n",
            "15\n"
          ]
        }
      ]
    },
    {
      "cell_type": "code",
      "source": [
        "# 5. What are the three types of access modifiers in Python? How are they denoted?\n",
        "# Answer =\n",
        "\n",
        "\n",
        "#  Access Modifiers in Python\n",
        "# Public: Accessible everywhere. Denoted without an underscore (x).\n",
        "# Protected: Accessible in the class and its subclasses. Denoted with a single underscore (_x).\n",
        "# Private: Accessible only within the class. Denoted with double underscores (__x)."
      ],
      "metadata": {
        "id": "u1DhRLYMTIl_"
      },
      "execution_count": 5,
      "outputs": []
    },
    {
      "cell_type": "code",
      "source": [
        "# 6. Describe the five types of inheritance in Python. Provide a simple example of multiple inheritance.\n",
        "# # Answer =\n",
        "#  Types of Inheritance in Python\n",
        "# Single Inheritance: One child class inherits from one parent class.\n",
        "# Multiple Inheritance: A class inherits from multiple parent classes.\n",
        "# Multilevel Inheritance: A class inherits from another child class.\n",
        "# Hierarchical Inheritance: Multiple classes inherit from a single parent class.\n",
        "# Hybrid Inheritance: Combination of two or more types of inheritance."
      ],
      "metadata": {
        "id": "Zd-FcVvETVa7"
      },
      "execution_count": 7,
      "outputs": []
    },
    {
      "cell_type": "code",
      "source": [
        "# 7. What is the Method Resolution Order (MRO) in Python? How can you retrieve it programmatically?\n",
        "# Answer =\n",
        "#  Method Resolution Order (MRO)\n",
        "# MRO defines the order in which classes are searched for methods and attributes in multiple inheritance. It is determined using the C3 Linearization Algorithm.\n",
        "\n",
        "# Retrieve MRO Programmatically:\n",
        "\n",
        "class A: pass\n",
        "class B(A): pass\n",
        "class C(B): pass\n",
        "\n",
        "print(C.mro())  # [C, B, A, object]\n"
      ],
      "metadata": {
        "colab": {
          "base_uri": "https://localhost:8080/"
        },
        "id": "t-iLm73zTZN9",
        "outputId": "75bb1e62-8c73-4042-ff0a-0462008189c9"
      },
      "execution_count": 8,
      "outputs": [
        {
          "output_type": "stream",
          "name": "stdout",
          "text": [
            "[<class '__main__.C'>, <class '__main__.B'>, <class '__main__.A'>, <class 'object'>]\n"
          ]
        }
      ]
    },
    {
      "cell_type": "code",
      "source": [
        "# 8. Create an abstract base class Shape with an abstract method area(). Then create two subclasses\n",
        "# Circle and Rectangle that implement the area() method.\n",
        "\n",
        "# Answer =\n",
        "from abc import ABC, abstractmethod\n",
        "\n",
        "class Shape(ABC):\n",
        "    @abstractmethod\n",
        "    def area(self):\n",
        "        pass\n",
        "\n",
        "class Circle(Shape):\n",
        "    def __init__(self, radius):\n",
        "        self.radius = radius\n",
        "\n",
        "    def area(self):\n",
        "        return 3.14 * self.radius**2\n",
        "\n",
        "class Rectangle(Shape):\n",
        "    def __init__(self, length, breadth):\n",
        "        self.length = length\n",
        "        self.breadth = breadth\n",
        "\n",
        "    def area(self):\n",
        "        return self.length * self.breadth\n"
      ],
      "metadata": {
        "id": "DIacwXpPTpke"
      },
      "execution_count": 9,
      "outputs": []
    },
    {
      "cell_type": "code",
      "source": [
        "# 9. Demonstrate polymorphism by creating a function that can work with different shape objects to calculate\n",
        "# and print their areas.\n",
        "# Answer =\n",
        "def print_area(shape):\n",
        "    print(f\"Area: {shape.area()}\")\n",
        "\n",
        "circle = Circle(5)\n",
        "rectangle = Rectangle(4, 6)\n",
        "\n",
        "print_area(circle)       # Area: 78.5\n",
        "print_area(rectangle)    # Area: 24\n"
      ],
      "metadata": {
        "colab": {
          "base_uri": "https://localhost:8080/"
        },
        "id": "ibOciqyvTyci",
        "outputId": "2777c140-fabb-4f3b-eb9a-c6927957d9a3"
      },
      "execution_count": 10,
      "outputs": [
        {
          "output_type": "stream",
          "name": "stdout",
          "text": [
            "Area: 78.5\n",
            "Area: 24\n"
          ]
        }
      ]
    },
    {
      "cell_type": "code",
      "source": [
        "# 10. Implement encapsulation in a BankAccount class with private attributes for balance and\n",
        "# account_number. Include methods for deposit, withdrawal, and balance inquiry.\n",
        "\n",
        "# Answer =\n",
        "class BankAccount:\n",
        "    def __init__(self, account_number, balance=0):\n",
        "        self.__account_number = account_number\n",
        "        self.__balance = balance\n",
        "\n",
        "    def deposit(self, amount):\n",
        "        self.__balance += amount\n",
        "\n",
        "    def withdraw(self, amount):\n",
        "        if amount <= self.__balance:\n",
        "            self.__balance -= amount\n",
        "        else:\n",
        "            raise ValueError(\"Insufficient balance!\")\n",
        "\n",
        "    def get_balance(self):\n",
        "        return self.__balance\n"
      ],
      "metadata": {
        "id": "shLx21kXT6hR"
      },
      "execution_count": 12,
      "outputs": []
    },
    {
      "cell_type": "code",
      "source": [
        "# 11. Write a class that overrides the __str__ and __add__ magic methods. What will these methods allow\n",
        "# you to do?\n",
        "\n",
        "# Answer =\n",
        "class Number:\n",
        "    def __init__(self, value):\n",
        "        self.value = value\n",
        "\n",
        "    def __str__(self):\n",
        "        return f\"Number: {self.value}\"\n",
        "\n",
        "    def __add__(self, other):\n",
        "        return Number(self.value + other.value)\n",
        "\n",
        "n1 = Number(5)\n",
        "n2 = Number(10)\n",
        "n3 = n1 + n2\n",
        "\n",
        "print(n3)  # Number: 15\n"
      ],
      "metadata": {
        "colab": {
          "base_uri": "https://localhost:8080/"
        },
        "id": "t6MbJxayUAj3",
        "outputId": "c57f565d-5e4c-4fbd-9683-92966a4ae67c"
      },
      "execution_count": 13,
      "outputs": [
        {
          "output_type": "stream",
          "name": "stdout",
          "text": [
            "Number: 15\n"
          ]
        }
      ]
    },
    {
      "cell_type": "code",
      "source": [
        "# 12. Create a decorator that measures and prints the execution time of a function.\n",
        "# Answer =\n",
        "import time\n",
        "\n",
        "def timer(func):\n",
        "    def wrapper(*args, **kwargs):\n",
        "        start = time.time()\n",
        "        result = func(*args, **kwargs)\n",
        "        end = time.time()\n",
        "        print(f\"Execution time: {end - start:.4f} seconds\")\n",
        "        return result\n",
        "    return wrapper\n",
        "\n",
        "@timer\n",
        "def slow_function():\n",
        "    time.sleep(2)\n",
        "\n",
        "slow_function()  # Execution time: 2.0001 seconds\n"
      ],
      "metadata": {
        "colab": {
          "base_uri": "https://localhost:8080/"
        },
        "id": "B9_tYfcQUMAA",
        "outputId": "b47fd024-2723-4c07-c786-4efab307108e"
      },
      "execution_count": 14,
      "outputs": [
        {
          "output_type": "stream",
          "name": "stdout",
          "text": [
            "Execution time: 2.0021 seconds\n"
          ]
        }
      ]
    },
    {
      "cell_type": "code",
      "source": [
        "# 13. Explain the concept of the Diamond Problem in multiple inheritance. How does Python resolve it?\n",
        "# Answer =\n",
        "#  Diamond Problem and Python Resolution\n",
        "# The Diamond Problem occurs in multiple inheritance when a class inherits from two classes that share a common ancestor.\n",
        "\n",
        "# Python resolves it using the C3 Linearization Algorithm, which ensures that each class is called only once in a consistent order.\n",
        "\n",
        "# Example:\n",
        "\n",
        "\n",
        "class A:\n",
        "    def method(self):\n",
        "        return \"A\"\n",
        "\n",
        "class B(A):\n",
        "    def method(self):\n",
        "        return \"B\"\n",
        "\n",
        "class C(A):\n",
        "    def method(self):\n",
        "        return \"C\"\n",
        "\n",
        "class D(B, C):\n",
        "    pass\n",
        "\n",
        "d = D()\n",
        "print(d.method())  # B (Based on MRO)\n",
        "print(D.mro())  # [D, B, C, A, object]"
      ],
      "metadata": {
        "colab": {
          "base_uri": "https://localhost:8080/"
        },
        "id": "ybKSE3J8UW7t",
        "outputId": "564c97ff-fc2b-4ac4-d1ae-655121bf09c9"
      },
      "execution_count": 15,
      "outputs": [
        {
          "output_type": "stream",
          "name": "stdout",
          "text": [
            "B\n",
            "[<class '__main__.D'>, <class '__main__.B'>, <class '__main__.C'>, <class '__main__.A'>, <class 'object'>]\n"
          ]
        }
      ]
    },
    {
      "cell_type": "code",
      "source": [
        "# 14. Write a class method that keeps track of the number of instances created from a class.\n",
        "# Answer =\n",
        "class InstanceCounter:\n",
        "    count = 0  # Class attribute to track instances\n",
        "\n",
        "    def __init__(self):\n",
        "        InstanceCounter.increment_count()\n",
        "\n",
        "    @classmethod\n",
        "    def increment_count(cls):\n",
        "        cls.count += 1\n",
        "\n",
        "    @classmethod\n",
        "    def get_instance_count(cls):\n",
        "        return cls.count\n",
        "\n",
        "# Usage\n",
        "obj1 = InstanceCounter()\n",
        "obj2 = InstanceCounter()\n",
        "print(InstanceCounter.get_instance_count())  # Output: 2\n"
      ],
      "metadata": {
        "colab": {
          "base_uri": "https://localhost:8080/"
        },
        "id": "MpEvuUhwUjXA",
        "outputId": "dc7149e7-0c93-420c-a215-424d7f988292"
      },
      "execution_count": 16,
      "outputs": [
        {
          "output_type": "stream",
          "name": "stdout",
          "text": [
            "2\n"
          ]
        }
      ]
    },
    {
      "cell_type": "code",
      "source": [
        "# 15. Implement a static method in a class that checks if a given year is a leap year.\n",
        "# Answer =\n",
        "\n",
        "class Utility:\n",
        "    @staticmethod\n",
        "    def is_leap_year(year):\n",
        "        if (year % 4 == 0 and year % 100 != 0) or (year % 400 == 0):\n",
        "            return True\n",
        "        return False\n",
        "\n",
        "# Usage\n",
        "print(Utility.is_leap_year(2024))  # Output: True\n",
        "print(Utility.is_leap_year(1900))  # Output: False\n"
      ],
      "metadata": {
        "id": "Sm4QyXEoU4ZH"
      },
      "execution_count": 18,
      "outputs": []
    },
    {
      "cell_type": "code",
      "source": [],
      "metadata": {
        "id": "bioqltqyVARY"
      },
      "execution_count": null,
      "outputs": []
    }
  ]
}